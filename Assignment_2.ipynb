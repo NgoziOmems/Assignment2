{
  "cells": [
    {
      "cell_type": "code",
      "execution_count": null,
      "id": "d799384f",
      "metadata": {
        "id": "d799384f"
      },
      "outputs": [],
      "source": [
        "#APPEND METHOD:Used to add one item at a time to the end of a list.\n",
        "animals=['goat','chicken','cow',]"
      ]
    },
    {
      "cell_type": "code",
      "execution_count": null,
      "id": "39d6a0bf",
      "metadata": {
        "id": "39d6a0bf",
        "outputId": "68898939-6357-466b-e6f7-607deb22b7a4"
      },
      "outputs": [
        {
          "data": {
            "text/plain": [
              "['goat', 'chicken', 'cow']"
            ]
          },
          "execution_count": 9,
          "metadata": {},
          "output_type": "execute_result"
        }
      ],
      "source": [
        "animals"
      ]
    },
    {
      "cell_type": "code",
      "execution_count": null,
      "id": "978a7236",
      "metadata": {
        "id": "978a7236"
      },
      "outputs": [],
      "source": [
        "animals.append('bat')\n",
        "animals.append('cat')\n",
        "animals.append('rat')\n",
        "animals.append('dog')\n",
        "animals.append('fish')\n",
        "animals.append('elephant')\n",
        "animals.append('tortoise')\n",
        "animals.append('donkey')\n",
        "animals.append('lion')\n",
        "animals.append('tiger')"
      ]
    },
    {
      "cell_type": "code",
      "execution_count": null,
      "id": "8356715a",
      "metadata": {
        "id": "8356715a",
        "outputId": "f802984f-a316-4534-d3af-ea454ae88c3f"
      },
      "outputs": [
        {
          "data": {
            "text/plain": [
              "['goat',\n",
              " 'chicken',\n",
              " 'cow',\n",
              " 'bat',\n",
              " 'cat',\n",
              " 'rat',\n",
              " 'dog',\n",
              " 'fish',\n",
              " 'elephant',\n",
              " 'tortoise',\n",
              " 'donkey',\n",
              " 'lion',\n",
              " 'tiger']"
            ]
          },
          "execution_count": 11,
          "metadata": {},
          "output_type": "execute_result"
        }
      ],
      "source": [
        "animals"
      ]
    },
    {
      "cell_type": "code",
      "execution_count": null,
      "id": "76ad67ab",
      "metadata": {
        "id": "76ad67ab",
        "outputId": "47c24c60-14a5-4a05-e6cc-5906947251ec"
      },
      "outputs": [
        {
          "data": {
            "text/plain": [
              "['black', 'white']"
            ]
          },
          "execution_count": 12,
          "metadata": {},
          "output_type": "execute_result"
        }
      ],
      "source": [
        "#INSERT METHOD:Used to add items at different positions in a list. It can change the indexing of a list.\n",
        "colors=['black','white',]\n",
        "colors"
      ]
    },
    {
      "cell_type": "code",
      "execution_count": null,
      "id": "d844cbe7",
      "metadata": {
        "id": "d844cbe7"
      },
      "outputs": [],
      "source": [
        "colors.insert(0,'red')\n",
        "colors.insert(0,'yellow')\n",
        "colors.insert(0,'green')"
      ]
    },
    {
      "cell_type": "code",
      "execution_count": null,
      "id": "4956b618",
      "metadata": {
        "id": "4956b618",
        "outputId": "5515ec85-655c-4d23-d723-d539e93b7618"
      },
      "outputs": [
        {
          "data": {
            "text/plain": [
              "['green', 'yellow', 'red', 'black', 'white']"
            ]
          },
          "execution_count": 14,
          "metadata": {},
          "output_type": "execute_result"
        }
      ],
      "source": [
        "colors"
      ]
    },
    {
      "cell_type": "code",
      "execution_count": null,
      "id": "c6071455",
      "metadata": {
        "id": "c6071455"
      },
      "outputs": [],
      "source": [
        "colors.insert(3,'orange')\n",
        "colors.insert(4,'blue')\n",
        "colors.insert(-2,'purple')\n",
        "colors.insert(0,'Black')\n",
        "colors.insert(1,'brown')\n",
        "colors.insert(-4,'grey')"
      ]
    },
    {
      "cell_type": "code",
      "execution_count": null,
      "id": "09d3626f",
      "metadata": {
        "id": "09d3626f",
        "outputId": "894bf853-a27e-4395-e158-8e3e24d03cfe"
      },
      "outputs": [
        {
          "data": {
            "text/plain": [
              "['Black',\n",
              " 'brown',\n",
              " 'green',\n",
              " 'yellow',\n",
              " 'grey',\n",
              " 'purple',\n",
              " 'red',\n",
              " 'orange',\n",
              " 'blue',\n",
              " 'black',\n",
              " 'white']"
            ]
          },
          "execution_count": 16,
          "metadata": {},
          "output_type": "execute_result"
        }
      ],
      "source": [
        "colors"
      ]
    },
    {
      "cell_type": "code",
      "execution_count": null,
      "id": "9773d32b",
      "metadata": {
        "id": "9773d32b"
      },
      "outputs": [],
      "source": [
        "colors[-2]='violet'\n",
        "colors[-5]='teal'\n",
        "colors[0:4]=['ash','lavender','beige','tan']"
      ]
    },
    {
      "cell_type": "code",
      "execution_count": null,
      "id": "775fe141",
      "metadata": {
        "id": "775fe141",
        "outputId": "3429934b-99c5-412d-82cd-5734eb943ea2"
      },
      "outputs": [
        {
          "data": {
            "text/plain": [
              "['ash',\n",
              " 'lavender',\n",
              " 'beige',\n",
              " 'tan',\n",
              " 'green',\n",
              " 'orange',\n",
              " 'blue',\n",
              " 'yellow',\n",
              " 'grey',\n",
              " 'purple',\n",
              " 'red',\n",
              " 'orange',\n",
              " 'teal',\n",
              " 'blue',\n",
              " 'purple',\n",
              " 'violet',\n",
              " 'white']"
            ]
          },
          "execution_count": 24,
          "metadata": {},
          "output_type": "execute_result"
        }
      ],
      "source": [
        "colors"
      ]
    },
    {
      "cell_type": "code",
      "execution_count": null,
      "id": "06cb7343",
      "metadata": {
        "id": "06cb7343"
      },
      "outputs": [],
      "source": [
        "#EXTEND METHOD:Is used to add multiple items at a time to the end of a list.\n",
        "colleagues=['ngozi','folusho','rotimi']"
      ]
    },
    {
      "cell_type": "code",
      "execution_count": null,
      "id": "d37ed8ff",
      "metadata": {
        "id": "d37ed8ff",
        "outputId": "dc1c6c17-bd29-4807-b105-a5824e0c5c90"
      },
      "outputs": [
        {
          "data": {
            "text/plain": [
              "['ngozi', 'folusho', 'rotimi']"
            ]
          },
          "execution_count": 42,
          "metadata": {},
          "output_type": "execute_result"
        }
      ],
      "source": [
        "colleagues"
      ]
    },
    {
      "cell_type": "code",
      "execution_count": null,
      "id": "725f271f",
      "metadata": {
        "id": "725f271f"
      },
      "outputs": [],
      "source": [
        "colleagues.extend(['imoh','folake','joyce','nengi','mobolaji','omon'])"
      ]
    },
    {
      "cell_type": "code",
      "execution_count": null,
      "id": "4d9672f6",
      "metadata": {
        "id": "4d9672f6",
        "outputId": "d58fb8c2-d0cd-492c-e55e-d9b4cd992a46"
      },
      "outputs": [
        {
          "data": {
            "text/plain": [
              "['ngozi',\n",
              " 'folusho',\n",
              " 'rotimi',\n",
              " 'imoh',\n",
              " 'folake',\n",
              " 'joyce',\n",
              " 'nengi',\n",
              " 'mobolaji',\n",
              " 'omon']"
            ]
          },
          "execution_count": 44,
          "metadata": {},
          "output_type": "execute_result"
        }
      ],
      "source": [
        "colleagues"
      ]
    },
    {
      "cell_type": "code",
      "execution_count": null,
      "id": "fc54b8b3",
      "metadata": {
        "id": "fc54b8b3",
        "outputId": "1938d065-333f-46f5-f758-43fa7eebbe29"
      },
      "outputs": [
        {
          "data": {
            "text/plain": [
              "'omon'"
            ]
          },
          "execution_count": 45,
          "metadata": {},
          "output_type": "execute_result"
        }
      ],
      "source": [
        "#POP METHOD: Used to delete an item from a list\n",
        "#To delete items from the colleagues list\n",
        "colleagues.pop()"
      ]
    },
    {
      "cell_type": "code",
      "execution_count": null,
      "id": "4012217e",
      "metadata": {
        "id": "4012217e",
        "outputId": "23b2ea5d-2542-451d-e05f-6108a413a845"
      },
      "outputs": [
        {
          "data": {
            "text/plain": [
              "'nengi'"
            ]
          },
          "execution_count": 46,
          "metadata": {},
          "output_type": "execute_result"
        }
      ],
      "source": [
        "colleagues.pop(-2)"
      ]
    },
    {
      "cell_type": "code",
      "execution_count": null,
      "id": "e1738ef7",
      "metadata": {
        "id": "e1738ef7",
        "outputId": "d63eb7cd-a806-43a4-cc99-976c23aaaa06"
      },
      "outputs": [
        {
          "data": {
            "text/plain": [
              "'mobolaji'"
            ]
          },
          "execution_count": 47,
          "metadata": {},
          "output_type": "execute_result"
        }
      ],
      "source": [
        "colleagues.pop(-1)"
      ]
    },
    {
      "cell_type": "code",
      "execution_count": null,
      "id": "700f8b89",
      "metadata": {
        "id": "700f8b89",
        "outputId": "eae74f9c-a861-4cb7-c932-e0ce3caa8156"
      },
      "outputs": [
        {
          "data": {
            "text/plain": [
              "'joyce'"
            ]
          },
          "execution_count": 48,
          "metadata": {},
          "output_type": "execute_result"
        }
      ],
      "source": [
        "colleagues.pop()"
      ]
    },
    {
      "cell_type": "code",
      "execution_count": null,
      "id": "076f6b27",
      "metadata": {
        "id": "076f6b27",
        "outputId": "7a6e29f0-f331-4bed-97ac-f8664bc8ca3e"
      },
      "outputs": [
        {
          "data": {
            "text/plain": [
              "['ngozi', 'folusho', 'rotimi', 'imoh', 'folake']"
            ]
          },
          "execution_count": 49,
          "metadata": {},
          "output_type": "execute_result"
        }
      ],
      "source": [
        "colleagues"
      ]
    },
    {
      "cell_type": "code",
      "execution_count": null,
      "id": "835bdda8",
      "metadata": {
        "id": "835bdda8",
        "outputId": "083589e4-f853-491a-89ee-c253e358a2ae"
      },
      "outputs": [
        {
          "data": {
            "text/plain": [
              "'white'"
            ]
          },
          "execution_count": 50,
          "metadata": {},
          "output_type": "execute_result"
        }
      ],
      "source": [
        "#To delete items from the colors list using pop\n",
        "colors.pop()"
      ]
    },
    {
      "cell_type": "code",
      "execution_count": null,
      "id": "6b2b79b9",
      "metadata": {
        "id": "6b2b79b9",
        "outputId": "5f8c9ad0-cb54-4142-ee94-4cf1dadb3b12"
      },
      "outputs": [
        {
          "data": {
            "text/plain": [
              "'violet'"
            ]
          },
          "execution_count": 52,
          "metadata": {},
          "output_type": "execute_result"
        }
      ],
      "source": [
        "colors.pop(-1)"
      ]
    },
    {
      "cell_type": "code",
      "execution_count": null,
      "id": "5980fe9a",
      "metadata": {
        "scrolled": true,
        "id": "5980fe9a",
        "outputId": "7a1fd89b-4070-4266-9b31-c3b00a33daac"
      },
      "outputs": [
        {
          "data": {
            "text/plain": [
              "'blue'"
            ]
          },
          "execution_count": 54,
          "metadata": {},
          "output_type": "execute_result"
        }
      ],
      "source": [
        "colors.pop(3)\n"
      ]
    },
    {
      "cell_type": "code",
      "execution_count": null,
      "id": "21c7e097",
      "metadata": {
        "id": "21c7e097",
        "outputId": "6062eb71-c456-4db3-82f1-c7c138f166f0"
      },
      "outputs": [
        {
          "data": {
            "text/plain": [
              "['lavender',\n",
              " 'green',\n",
              " 'orange',\n",
              " 'yellow',\n",
              " 'grey',\n",
              " 'purple',\n",
              " 'red',\n",
              " 'orange',\n",
              " 'teal',\n",
              " 'blue',\n",
              " 'purple']"
            ]
          },
          "execution_count": 55,
          "metadata": {},
          "output_type": "execute_result"
        }
      ],
      "source": [
        "colors"
      ]
    },
    {
      "cell_type": "code",
      "execution_count": null,
      "id": "ef68e189",
      "metadata": {
        "id": "ef68e189"
      },
      "outputs": [],
      "source": [
        "#REMOVE METHOD:Is also used to delete items from a table. The item must not be the last item on the list.\n",
        "#To remove items from the colors table using remove method\n",
        "colors.remove('lavender')\n",
        "colors.remove('green')\n",
        "colors.remove('orange')\n",
        "colors.remove('purple')\n",
        "colors.remove('yellow')"
      ]
    },
    {
      "cell_type": "code",
      "execution_count": null,
      "id": "a9eafff7",
      "metadata": {
        "id": "a9eafff7",
        "outputId": "2608ffa4-bd06-437b-c34b-102061dc578b"
      },
      "outputs": [
        {
          "data": {
            "text/plain": [
              "['grey', 'red', 'orange', 'teal', 'blue', 'purple']"
            ]
          },
          "execution_count": 57,
          "metadata": {},
          "output_type": "execute_result"
        }
      ],
      "source": [
        "colors"
      ]
    },
    {
      "cell_type": "code",
      "execution_count": null,
      "id": "80ddd8e8",
      "metadata": {
        "id": "80ddd8e8",
        "outputId": "3c5ba825-44b0-4f19-bf0c-cc91e360610f"
      },
      "outputs": [
        {
          "data": {
            "text/plain": [
              "['goat',\n",
              " 'chicken',\n",
              " 'cow',\n",
              " 'bat',\n",
              " 'cat',\n",
              " 'rat',\n",
              " 'dog',\n",
              " 'fish',\n",
              " 'elephant',\n",
              " 'tortoise',\n",
              " 'donkey',\n",
              " 'lion',\n",
              " 'tiger']"
            ]
          },
          "execution_count": 58,
          "metadata": {},
          "output_type": "execute_result"
        }
      ],
      "source": [
        "#To remove items from the animals list using remove method\n",
        "animals"
      ]
    },
    {
      "cell_type": "code",
      "execution_count": null,
      "id": "a1e4694d",
      "metadata": {
        "id": "a1e4694d"
      },
      "outputs": [],
      "source": [
        "animals.remove('elephant')\n",
        "animals.remove('tortoise')\n",
        "animals.remove('donkey')\n",
        "animals.remove('chicken')\n",
        "animals.remove('tiger')"
      ]
    },
    {
      "cell_type": "code",
      "execution_count": null,
      "id": "9b3a6ef1",
      "metadata": {
        "id": "9b3a6ef1",
        "outputId": "5fee8d85-c969-45f2-8960-b919687dffd8"
      },
      "outputs": [
        {
          "data": {
            "text/plain": [
              "['goat', 'cow', 'bat', 'cat', 'rat', 'dog', 'fish', 'lion']"
            ]
          },
          "execution_count": 60,
          "metadata": {},
          "output_type": "execute_result"
        }
      ],
      "source": [
        "animals"
      ]
    },
    {
      "cell_type": "code",
      "execution_count": null,
      "id": "af1a9eb1",
      "metadata": {
        "id": "af1a9eb1"
      },
      "outputs": [],
      "source": [
        "#SORT METHOD:Used to rearrange items on a list in alphabetical order for strings or numerical order for integers\n",
        "#To sort the animals list.\n",
        "animals.sort()"
      ]
    },
    {
      "cell_type": "code",
      "execution_count": null,
      "id": "fa8e6895",
      "metadata": {
        "id": "fa8e6895",
        "outputId": "b2c11b90-7f33-4eb0-8c61-2ff41a4ddfd0"
      },
      "outputs": [
        {
          "data": {
            "text/plain": [
              "['bat', 'cat', 'cow', 'dog', 'fish', 'goat', 'lion', 'rat']"
            ]
          },
          "execution_count": 62,
          "metadata": {},
          "output_type": "execute_result"
        }
      ],
      "source": [
        "animals"
      ]
    },
    {
      "cell_type": "code",
      "execution_count": null,
      "id": "050f4335",
      "metadata": {
        "id": "050f4335"
      },
      "outputs": [],
      "source": [
        "#To sort the colors list.\n",
        "colors.sort()"
      ]
    },
    {
      "cell_type": "code",
      "execution_count": null,
      "id": "fd4c01fe",
      "metadata": {
        "id": "fd4c01fe",
        "outputId": "1c72fae9-8b0a-49c9-8e2c-d1512544b18e"
      },
      "outputs": [
        {
          "data": {
            "text/plain": [
              "['blue', 'grey', 'orange', 'purple', 'red', 'teal']"
            ]
          },
          "execution_count": 64,
          "metadata": {},
          "output_type": "execute_result"
        }
      ],
      "source": [
        "colors"
      ]
    },
    {
      "cell_type": "code",
      "execution_count": null,
      "id": "248225d2",
      "metadata": {
        "id": "248225d2"
      },
      "outputs": [],
      "source": [
        "#To sort the colleagues list\n",
        "colleagues.sort()"
      ]
    },
    {
      "cell_type": "code",
      "execution_count": null,
      "id": "0ebcdceb",
      "metadata": {
        "id": "0ebcdceb",
        "outputId": "4c10e514-1452-4a4b-9e13-fcac3e7b3ea0"
      },
      "outputs": [
        {
          "data": {
            "text/plain": [
              "['folake', 'folusho', 'imoh', 'ngozi', 'rotimi']"
            ]
          },
          "execution_count": 66,
          "metadata": {},
          "output_type": "execute_result"
        }
      ],
      "source": [
        "colleagues"
      ]
    },
    {
      "cell_type": "code",
      "execution_count": null,
      "id": "8babfbef",
      "metadata": {
        "id": "8babfbef"
      },
      "outputs": [],
      "source": [
        "#To create a numbers list and sort it.\n",
        "numbers=[1,9,6,-4,7,9,5,-7,8]\n",
        "numbers.sort()"
      ]
    },
    {
      "cell_type": "code",
      "execution_count": null,
      "id": "a6d7716b",
      "metadata": {
        "id": "a6d7716b",
        "outputId": "dd916ab6-8b2c-41ff-a393-2ef7de9ea95d"
      },
      "outputs": [
        {
          "data": {
            "text/plain": [
              "[-7, -4, 1, 5, 6, 7, 8, 9, 9]"
            ]
          },
          "execution_count": 68,
          "metadata": {},
          "output_type": "execute_result"
        }
      ],
      "source": [
        "numbers"
      ]
    },
    {
      "cell_type": "code",
      "execution_count": null,
      "id": "cb48fc70",
      "metadata": {
        "id": "cb48fc70"
      },
      "outputs": [],
      "source": [
        "#To create and sort a snacks list.\n",
        "snacks=['doughnut','meatpie','shawarma','samosa','fishroll','eggroll']\n",
        "snacks.sort()"
      ]
    },
    {
      "cell_type": "code",
      "execution_count": null,
      "id": "4e427aa2",
      "metadata": {
        "id": "4e427aa2",
        "outputId": "dac2b7dd-2b05-4fee-eebe-d59f3d46306f"
      },
      "outputs": [
        {
          "data": {
            "text/plain": [
              "['doughnut', 'eggroll', 'fishroll', 'meatpie', 'samosa', 'shawarma']"
            ]
          },
          "execution_count": 70,
          "metadata": {},
          "output_type": "execute_result"
        }
      ],
      "source": [
        "snacks"
      ]
    },
    {
      "cell_type": "code",
      "execution_count": null,
      "id": "9911f95e",
      "metadata": {
        "id": "9911f95e"
      },
      "outputs": [],
      "source": [
        "#To create and sort a designer_brands list\n",
        "designer_brands=['prada','gucci','versace','louis vuitton','balenciaga']"
      ]
    },
    {
      "cell_type": "code",
      "execution_count": null,
      "id": "8b8d9b6b",
      "metadata": {
        "id": "8b8d9b6b"
      },
      "outputs": [],
      "source": [
        "designer_brands.sort()"
      ]
    },
    {
      "cell_type": "code",
      "execution_count": null,
      "id": "13de16e6",
      "metadata": {
        "id": "13de16e6",
        "outputId": "091a2a0e-654a-4ee8-bcf0-8611286c0bee"
      },
      "outputs": [
        {
          "data": {
            "text/plain": [
              "['balenciaga', 'gucci', 'louis vuitton', 'prada', 'versace']"
            ]
          },
          "execution_count": 73,
          "metadata": {},
          "output_type": "execute_result"
        }
      ],
      "source": [
        "designer_brands"
      ]
    },
    {
      "cell_type": "code",
      "execution_count": null,
      "id": "481eae9a",
      "metadata": {
        "id": "481eae9a"
      },
      "outputs": [],
      "source": [
        "#To create and sort a vegetables list\n",
        "vegetables=['cabbage','broccoli','cauliflower','brussel sprouts','asparagus','lettuce']"
      ]
    },
    {
      "cell_type": "code",
      "execution_count": null,
      "id": "0842d649",
      "metadata": {
        "id": "0842d649"
      },
      "outputs": [],
      "source": [
        "vegetables.sort()"
      ]
    },
    {
      "cell_type": "code",
      "execution_count": null,
      "id": "19273d06",
      "metadata": {
        "id": "19273d06",
        "outputId": "ea0d27fe-88d7-4783-a218-5123b16b3bcc"
      },
      "outputs": [
        {
          "data": {
            "text/plain": [
              "['asparagus',\n",
              " 'broccoli',\n",
              " 'brussel sprouts',\n",
              " 'cabbage',\n",
              " 'cauliflower',\n",
              " 'lettuce']"
            ]
          },
          "execution_count": 76,
          "metadata": {},
          "output_type": "execute_result"
        }
      ],
      "source": [
        "vegetables"
      ]
    },
    {
      "cell_type": "code",
      "execution_count": null,
      "id": "9e147f85",
      "metadata": {
        "id": "9e147f85"
      },
      "outputs": [],
      "source": [
        "#To create and sort a fruits list\n",
        "fruits=['grapes','strawberries','apples','blueberries','lemon','oranges']"
      ]
    },
    {
      "cell_type": "code",
      "execution_count": null,
      "id": "3d582d72",
      "metadata": {
        "id": "3d582d72"
      },
      "outputs": [],
      "source": [
        "fruits.sort()"
      ]
    },
    {
      "cell_type": "code",
      "execution_count": null,
      "id": "e72063a1",
      "metadata": {
        "id": "e72063a1",
        "outputId": "1d602e71-c6db-425d-9d4d-c4de6bdc3f71"
      },
      "outputs": [
        {
          "data": {
            "text/plain": [
              "['apples', 'blueberries', 'grapes', 'lemon', 'oranges', 'strawberries']"
            ]
          },
          "execution_count": 80,
          "metadata": {},
          "output_type": "execute_result"
        }
      ],
      "source": [
        "fruits"
      ]
    },
    {
      "cell_type": "code",
      "execution_count": null,
      "id": "57d9264a",
      "metadata": {
        "id": "57d9264a",
        "outputId": "5d37bd02-73a8-4077-840a-580d6f7667c1"
      },
      "outputs": [
        {
          "data": {
            "text/plain": [
              "['bat', 'cat', 'cow', 'dog', 'fish', 'goat', 'lion', 'rat']"
            ]
          },
          "execution_count": 81,
          "metadata": {},
          "output_type": "execute_result"
        }
      ],
      "source": [
        "#REVERSE METHOD: Used to reverse the arrangement of items in a list.\n",
        "#To reverse the animals list.\n",
        "animals"
      ]
    },
    {
      "cell_type": "code",
      "execution_count": null,
      "id": "ce75aae6",
      "metadata": {
        "id": "ce75aae6"
      },
      "outputs": [],
      "source": [
        "animals.reverse()"
      ]
    },
    {
      "cell_type": "code",
      "execution_count": null,
      "id": "21c3c76f",
      "metadata": {
        "id": "21c3c76f",
        "outputId": "37146c04-fbea-4d4a-dd02-2ce724a1c6d8"
      },
      "outputs": [
        {
          "data": {
            "text/plain": [
              "['rat', 'lion', 'goat', 'fish', 'dog', 'cow', 'cat', 'bat']"
            ]
          },
          "execution_count": 83,
          "metadata": {},
          "output_type": "execute_result"
        }
      ],
      "source": [
        "animals"
      ]
    },
    {
      "cell_type": "code",
      "execution_count": null,
      "id": "7ee8377d",
      "metadata": {
        "id": "7ee8377d",
        "outputId": "8f3b425a-2a5e-4d5e-d103-64579ca7d219"
      },
      "outputs": [
        {
          "data": {
            "text/plain": [
              "['blue', 'grey', 'orange', 'purple', 'red', 'teal']"
            ]
          },
          "execution_count": 84,
          "metadata": {},
          "output_type": "execute_result"
        }
      ],
      "source": [
        "#To reverse the colors list.\n",
        "colors"
      ]
    },
    {
      "cell_type": "code",
      "execution_count": null,
      "id": "e99a99af",
      "metadata": {
        "id": "e99a99af"
      },
      "outputs": [],
      "source": [
        "colors.reverse()"
      ]
    },
    {
      "cell_type": "code",
      "execution_count": null,
      "id": "7414d325",
      "metadata": {
        "id": "7414d325",
        "outputId": "84273038-7c51-461c-9dc0-4583fcaf59e0"
      },
      "outputs": [
        {
          "data": {
            "text/plain": [
              "['teal', 'red', 'purple', 'orange', 'grey', 'blue']"
            ]
          },
          "execution_count": 86,
          "metadata": {},
          "output_type": "execute_result"
        }
      ],
      "source": [
        "colors"
      ]
    },
    {
      "cell_type": "code",
      "execution_count": null,
      "id": "90d3e44c",
      "metadata": {
        "id": "90d3e44c",
        "outputId": "0f955f33-8e4d-403d-ed7f-13c4732dba70"
      },
      "outputs": [
        {
          "data": {
            "text/plain": [
              "['folake', 'folusho', 'imoh', 'ngozi', 'rotimi']"
            ]
          },
          "execution_count": 87,
          "metadata": {},
          "output_type": "execute_result"
        }
      ],
      "source": [
        "#To reverse the colleagues list.\n",
        "colleagues"
      ]
    },
    {
      "cell_type": "code",
      "execution_count": null,
      "id": "ca2eab75",
      "metadata": {
        "id": "ca2eab75"
      },
      "outputs": [],
      "source": [
        "colleagues.reverse()"
      ]
    },
    {
      "cell_type": "code",
      "execution_count": null,
      "id": "8aedebde",
      "metadata": {
        "id": "8aedebde",
        "outputId": "b4010079-0b08-4f3b-9e7b-071e38689e40"
      },
      "outputs": [
        {
          "data": {
            "text/plain": [
              "['rotimi', 'ngozi', 'imoh', 'folusho', 'folake']"
            ]
          },
          "execution_count": 90,
          "metadata": {},
          "output_type": "execute_result"
        }
      ],
      "source": [
        "colleagues"
      ]
    },
    {
      "cell_type": "code",
      "execution_count": null,
      "id": "45985d6b",
      "metadata": {
        "id": "45985d6b",
        "outputId": "e9a8d494-9fe6-436b-b74c-b5fb837f9d0e"
      },
      "outputs": [
        {
          "data": {
            "text/plain": [
              "[-7, -4, 1, 5, 6, 7, 8, 9, 9]"
            ]
          },
          "execution_count": 91,
          "metadata": {},
          "output_type": "execute_result"
        }
      ],
      "source": [
        "#To reverse the numbers list.\n",
        "numbers"
      ]
    },
    {
      "cell_type": "code",
      "execution_count": null,
      "id": "0fa6caf8",
      "metadata": {
        "id": "0fa6caf8"
      },
      "outputs": [],
      "source": [
        "numbers.reverse()"
      ]
    },
    {
      "cell_type": "code",
      "execution_count": null,
      "id": "d2e85df1",
      "metadata": {
        "id": "d2e85df1",
        "outputId": "c176a08e-f8b3-454c-ca64-117c0354d59f"
      },
      "outputs": [
        {
          "data": {
            "text/plain": [
              "[9, 9, 8, 7, 6, 5, 1, -4, -7]"
            ]
          },
          "execution_count": 93,
          "metadata": {},
          "output_type": "execute_result"
        }
      ],
      "source": [
        "numbers"
      ]
    },
    {
      "cell_type": "code",
      "execution_count": null,
      "id": "008297cf",
      "metadata": {
        "id": "008297cf",
        "outputId": "2abf048c-4d2f-43d9-acb3-a3b719cb3aac"
      },
      "outputs": [
        {
          "data": {
            "text/plain": [
              "['doughnut', 'eggroll', 'fishroll', 'meatpie', 'samosa', 'shawarma']"
            ]
          },
          "execution_count": 94,
          "metadata": {},
          "output_type": "execute_result"
        }
      ],
      "source": [
        "#To reverse the snacks list.\n",
        "snacks"
      ]
    },
    {
      "cell_type": "code",
      "execution_count": null,
      "id": "cf21c8f8",
      "metadata": {
        "id": "cf21c8f8"
      },
      "outputs": [],
      "source": [
        "snacks.reverse()"
      ]
    },
    {
      "cell_type": "code",
      "execution_count": null,
      "id": "973e5758",
      "metadata": {
        "id": "973e5758",
        "outputId": "8ebb4927-03ea-4766-c791-1189ab593fdf"
      },
      "outputs": [
        {
          "data": {
            "text/plain": [
              "['shawarma', 'samosa', 'meatpie', 'fishroll', 'eggroll', 'doughnut']"
            ]
          },
          "execution_count": 96,
          "metadata": {},
          "output_type": "execute_result"
        }
      ],
      "source": [
        "snacks"
      ]
    },
    {
      "cell_type": "code",
      "execution_count": null,
      "id": "2ca70c28",
      "metadata": {
        "id": "2ca70c28",
        "outputId": "8d54fb05-9b34-4b2c-9123-8847b906bba1"
      },
      "outputs": [
        {
          "data": {
            "text/plain": [
              "['balenciaga', 'gucci', 'louis vuitton', 'prada', 'versace']"
            ]
          },
          "execution_count": 97,
          "metadata": {},
          "output_type": "execute_result"
        }
      ],
      "source": [
        "#To reverse the designer_brands list\n",
        "designer_brands"
      ]
    },
    {
      "cell_type": "code",
      "execution_count": null,
      "id": "ca775f8a",
      "metadata": {
        "id": "ca775f8a"
      },
      "outputs": [],
      "source": [
        "designer_brands.reverse()"
      ]
    },
    {
      "cell_type": "code",
      "execution_count": null,
      "id": "2600a854",
      "metadata": {
        "id": "2600a854",
        "outputId": "3db88d0f-87e5-4d40-b1d8-1176812fde57"
      },
      "outputs": [
        {
          "data": {
            "text/plain": [
              "['versace', 'prada', 'louis vuitton', 'gucci', 'balenciaga']"
            ]
          },
          "execution_count": 99,
          "metadata": {},
          "output_type": "execute_result"
        }
      ],
      "source": [
        "designer_brands"
      ]
    },
    {
      "cell_type": "code",
      "execution_count": null,
      "id": "be72e173",
      "metadata": {
        "id": "be72e173",
        "outputId": "9d574eee-8a3e-41c7-e2e1-ece9c7f80464"
      },
      "outputs": [
        {
          "data": {
            "text/plain": [
              "['asparagus',\n",
              " 'broccoli',\n",
              " 'brussel sprouts',\n",
              " 'cabbage',\n",
              " 'cauliflower',\n",
              " 'lettuce']"
            ]
          },
          "execution_count": 100,
          "metadata": {},
          "output_type": "execute_result"
        }
      ],
      "source": [
        "#To reverse the vegetables list\n",
        "vegetables"
      ]
    },
    {
      "cell_type": "code",
      "execution_count": null,
      "id": "a5ec8f38",
      "metadata": {
        "id": "a5ec8f38"
      },
      "outputs": [],
      "source": [
        "vegetables.reverse()"
      ]
    },
    {
      "cell_type": "code",
      "execution_count": null,
      "id": "d81b7bb2",
      "metadata": {
        "id": "d81b7bb2",
        "outputId": "4bc1437d-f57b-4600-e750-5d6f9c906da3"
      },
      "outputs": [
        {
          "data": {
            "text/plain": [
              "['lettuce',\n",
              " 'cauliflower',\n",
              " 'cabbage',\n",
              " 'brussel sprouts',\n",
              " 'broccoli',\n",
              " 'asparagus']"
            ]
          },
          "execution_count": 102,
          "metadata": {},
          "output_type": "execute_result"
        }
      ],
      "source": [
        "vegetables"
      ]
    },
    {
      "cell_type": "code",
      "execution_count": null,
      "id": "292a8405",
      "metadata": {
        "id": "292a8405",
        "outputId": "7c4ea036-e9fc-40dc-8300-664cc696402e"
      },
      "outputs": [
        {
          "data": {
            "text/plain": [
              "['apples', 'blueberries', 'grapes', 'lemon', 'oranges', 'strawberries']"
            ]
          },
          "execution_count": 103,
          "metadata": {},
          "output_type": "execute_result"
        }
      ],
      "source": [
        "#To reverse the fruits list\n",
        "fruits"
      ]
    },
    {
      "cell_type": "code",
      "execution_count": null,
      "id": "a351ee63",
      "metadata": {
        "id": "a351ee63"
      },
      "outputs": [],
      "source": [
        "fruits.reverse()"
      ]
    },
    {
      "cell_type": "code",
      "execution_count": null,
      "id": "184c6c8e",
      "metadata": {
        "id": "184c6c8e",
        "outputId": "beaf3b8e-12e8-4847-f647-93f5f19a9413"
      },
      "outputs": [
        {
          "data": {
            "text/plain": [
              "['strawberries', 'oranges', 'lemon', 'grapes', 'blueberries', 'apples']"
            ]
          },
          "execution_count": 105,
          "metadata": {},
          "output_type": "execute_result"
        }
      ],
      "source": [
        "fruits"
      ]
    },
    {
      "cell_type": "code",
      "execution_count": null,
      "id": "05b1f481",
      "metadata": {
        "id": "05b1f481"
      },
      "outputs": [],
      "source": [
        "#COPY METHOD:This copies the items in one list to another variable. The list must be assigned to a variable.\n",
        "#To copy the animals list.\n",
        "ani =animals.copy()"
      ]
    },
    {
      "cell_type": "code",
      "execution_count": null,
      "id": "9d63dd4f",
      "metadata": {
        "id": "9d63dd4f",
        "outputId": "612b952b-02ef-4084-d003-57ddc5f53a32"
      },
      "outputs": [
        {
          "data": {
            "text/plain": [
              "['rat', 'lion', 'goat', 'fish', 'dog', 'cow', 'cat', 'bat']"
            ]
          },
          "execution_count": 112,
          "metadata": {},
          "output_type": "execute_result"
        }
      ],
      "source": [
        "ani"
      ]
    },
    {
      "cell_type": "code",
      "execution_count": null,
      "id": "f6e6ed0e",
      "metadata": {
        "id": "f6e6ed0e"
      },
      "outputs": [],
      "source": [
        "#To copy the colors list\n",
        "colours=colors.copy()"
      ]
    },
    {
      "cell_type": "code",
      "execution_count": null,
      "id": "0de056d1",
      "metadata": {
        "id": "0de056d1",
        "outputId": "cc7567a1-6eba-4b02-9f99-b51b67b83541"
      },
      "outputs": [
        {
          "data": {
            "text/plain": [
              "['teal', 'red', 'purple', 'orange', 'grey', 'blue']"
            ]
          },
          "execution_count": 114,
          "metadata": {},
          "output_type": "execute_result"
        }
      ],
      "source": [
        "colours"
      ]
    },
    {
      "cell_type": "code",
      "execution_count": null,
      "id": "a84f20fa",
      "metadata": {
        "id": "a84f20fa"
      },
      "outputs": [],
      "source": [
        "#To copy the colleagues list\n",
        "team=colleagues.copy()"
      ]
    },
    {
      "cell_type": "code",
      "execution_count": null,
      "id": "8be64b6a",
      "metadata": {
        "id": "8be64b6a",
        "outputId": "7db06338-9105-4e97-86c2-942083cd55d4"
      },
      "outputs": [
        {
          "data": {
            "text/plain": [
              "['rotimi', 'ngozi', 'imoh', 'folusho', 'folake']"
            ]
          },
          "execution_count": 116,
          "metadata": {},
          "output_type": "execute_result"
        }
      ],
      "source": [
        "team"
      ]
    },
    {
      "cell_type": "code",
      "execution_count": null,
      "id": "a87fd7dc",
      "metadata": {
        "id": "a87fd7dc"
      },
      "outputs": [],
      "source": [
        "#To copy the numbers list\n",
        "digits=numbers.copy()"
      ]
    },
    {
      "cell_type": "code",
      "execution_count": null,
      "id": "f0f96b50",
      "metadata": {
        "id": "f0f96b50",
        "outputId": "1bee1652-79a9-4ec9-eb5c-63eec1ef78e0"
      },
      "outputs": [
        {
          "data": {
            "text/plain": [
              "[9, 9, 8, 7, 6, 5, 1, -4, -7]"
            ]
          },
          "execution_count": 118,
          "metadata": {},
          "output_type": "execute_result"
        }
      ],
      "source": [
        "digits"
      ]
    },
    {
      "cell_type": "code",
      "execution_count": null,
      "id": "5f791c91",
      "metadata": {
        "id": "5f791c91"
      },
      "outputs": [],
      "source": [
        "#To copy the snacks list\n",
        "grubs=snacks.copy()"
      ]
    },
    {
      "cell_type": "code",
      "execution_count": null,
      "id": "c2e2316b",
      "metadata": {
        "id": "c2e2316b",
        "outputId": "0f452634-cf36-4f5e-ba93-1511f38f0811"
      },
      "outputs": [
        {
          "data": {
            "text/plain": [
              "['shawarma', 'samosa', 'meatpie', 'fishroll', 'eggroll', 'doughnut']"
            ]
          },
          "execution_count": 120,
          "metadata": {},
          "output_type": "execute_result"
        }
      ],
      "source": [
        "grubs"
      ]
    },
    {
      "cell_type": "code",
      "execution_count": null,
      "id": "5b91c5c2",
      "metadata": {
        "id": "5b91c5c2"
      },
      "outputs": [],
      "source": [
        "#To copy the designer_brands list\n",
        "brands=designer_brands.copy()"
      ]
    },
    {
      "cell_type": "code",
      "execution_count": null,
      "id": "a3fedb57",
      "metadata": {
        "id": "a3fedb57",
        "outputId": "07fcc55c-07aa-4abd-9813-258b51454358"
      },
      "outputs": [
        {
          "data": {
            "text/plain": [
              "['versace', 'prada', 'louis vuitton', 'gucci', 'balenciaga']"
            ]
          },
          "execution_count": 122,
          "metadata": {},
          "output_type": "execute_result"
        }
      ],
      "source": [
        "brands"
      ]
    },
    {
      "cell_type": "code",
      "execution_count": null,
      "id": "872062de",
      "metadata": {
        "id": "872062de",
        "outputId": "0ca1e9e7-1cf5-4045-b712-3f62ed2b8b63"
      },
      "outputs": [
        {
          "data": {
            "text/plain": [
              "['lettuce',\n",
              " 'cauliflower',\n",
              " 'cabbage',\n",
              " 'brussel sprouts',\n",
              " 'broccoli',\n",
              " 'asparagus']"
            ]
          },
          "execution_count": 123,
          "metadata": {},
          "output_type": "execute_result"
        }
      ],
      "source": [
        "#To copy the vegetables list\n",
        "veggies=vegetables.copy()\n",
        "veggies"
      ]
    },
    {
      "cell_type": "code",
      "execution_count": null,
      "id": "44b8c002",
      "metadata": {
        "id": "44b8c002"
      },
      "outputs": [],
      "source": [
        "#To copy the fruits list\n",
        "candies=fruits.copy()"
      ]
    },
    {
      "cell_type": "code",
      "execution_count": null,
      "id": "178d0fc9",
      "metadata": {
        "id": "178d0fc9",
        "outputId": "4b238f9e-1458-485a-e8d7-56ef2e8fe1b1"
      },
      "outputs": [
        {
          "data": {
            "text/plain": [
              "['strawberries', 'oranges', 'lemon', 'grapes', 'blueberries', 'apples']"
            ]
          },
          "execution_count": 125,
          "metadata": {},
          "output_type": "execute_result"
        }
      ],
      "source": [
        "candies"
      ]
    },
    {
      "cell_type": "code",
      "execution_count": null,
      "id": "0858263b",
      "metadata": {
        "id": "0858263b"
      },
      "outputs": [],
      "source": []
    }
  ],
  "metadata": {
    "kernelspec": {
      "display_name": "Python 3 (ipykernel)",
      "language": "python",
      "name": "python3"
    },
    "language_info": {
      "codemirror_mode": {
        "name": "ipython",
        "version": 3
      },
      "file_extension": ".py",
      "mimetype": "text/x-python",
      "name": "python",
      "nbconvert_exporter": "python",
      "pygments_lexer": "ipython3",
      "version": "3.11.5"
    },
    "colab": {
      "provenance": []
    }
  },
  "nbformat": 4,
  "nbformat_minor": 5
}